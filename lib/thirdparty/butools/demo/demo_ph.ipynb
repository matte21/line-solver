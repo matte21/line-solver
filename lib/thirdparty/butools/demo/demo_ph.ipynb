{
 "cells": [
  {
   "cell_type": "markdown",
   "metadata": {},
   "source": [
    "# Demonstration of the BuTools PH package"
   ]
  },
  {
   "cell_type": "markdown",
   "metadata": {},
   "source": [
    "Set the precision and initialize butools (load all packages)"
   ]
  },
  {
   "cell_type": "code",
   "execution_count": 1,
   "metadata": {
    "collapsed": false,
    "scrolled": true
   },
   "outputs": [
    {
     "name": "stdout",
     "output_type": "stream",
     "text": [
      "Butools V2.0\n",
      "Packages loaded: utils, mc, moments, reptrans, trace, ph, dph, map, dmap, fitting, mam, queues\n",
      "Global variables: \n",
      "butools.verbose = False , butools.checkInput = True , butools.checkPrecision = 1e-12\n"
     ]
    }
   ],
   "source": [
    "%precision %g\n",
    "%run \"~/github/butools/Python/BuToolsInit.py\""
   ]
  },
  {
   "cell_type": "markdown",
   "metadata": {},
   "source": [
    "First the global *butools.verbose* flag is set to True to obtain more messages from the functions."
   ]
  },
  {
   "cell_type": "code",
   "execution_count": 2,
   "metadata": {
    "collapsed": true
   },
   "outputs": [],
   "source": [
    "butools.verbose = True"
   ]
  },
  {
   "cell_type": "markdown",
   "metadata": {},
   "source": [
    "## PH and ME representations"
   ]
  },
  {
   "cell_type": "markdown",
   "metadata": {},
   "source": [
    "The BuTools PH package offers tools for both phase-type (PH) and matrix-exponential (ME) distributions. Some functions expect a PH representation for the input (MomentsFromPH, PdfFromPH, CdfFromPH, etc.), and some others expect an ME representation (MomentsFromME, PdfFromME, CdfFromME, etc.).\n",
    "\n",
    "If the global flag called *butools.checkInput* is set to True, these functions enforce the proper representation of their input parameters (the corresponding tolerance is given by the global *butools.checkPrecision* variable).\n",
    "\n",
    "The following example calls the checking functions on a distribution."
   ]
  },
  {
   "cell_type": "code",
   "execution_count": 3,
   "metadata": {
    "collapsed": true
   },
   "outputs": [],
   "source": [
    "alpha = ml.matrix([[0.2, 0.3, 0.5]])\n",
    "A = ml.matrix([[-1, 0, 0],[0, -3, 1],[0, -1, -3]])"
   ]
  },
  {
   "cell_type": "code",
   "execution_count": 4,
   "metadata": {
    "collapsed": false
   },
   "outputs": [
    {
     "name": "stdout",
     "output_type": "stream",
     "text": [
      "CheckGenerator: The generator has negative off-diagonal element (precision: 1e-12)!\n"
     ]
    },
    {
     "data": {
      "text/plain": [
       "False"
      ]
     },
     "execution_count": 4,
     "metadata": {},
     "output_type": "execute_result"
    }
   ],
   "source": [
    "CheckPHRepresentation(alpha,A)"
   ]
  },
  {
   "cell_type": "code",
   "execution_count": 5,
   "metadata": {
    "collapsed": false
   },
   "outputs": [
    {
     "data": {
      "text/plain": [
       "True"
      ]
     },
     "execution_count": 5,
     "metadata": {},
     "output_type": "execute_result"
    }
   ],
   "source": [
    "CheckMERepresentation(alpha,A)"
   ]
  },
  {
   "cell_type": "markdown",
   "metadata": {},
   "source": [
    "We can conclude that $\\alpha,A$ is not a PH representation, but it is a proper ME representation. (However, this does not mean that it is a valid ME distribution, the non-negativity of the density function is not checked by the CheckMERepresentation function)."
   ]
  },
  {
   "cell_type": "markdown",
   "metadata": {},
   "source": [
    "Note that in the Python version of butools, the vector (like $\\alpha$ above) must be given by $1\\times N$ matrices."
   ]
  },
  {
   "cell_type": "markdown",
   "metadata": {},
   "source": [
    "Calling a function that needs a PH representation will fail:"
   ]
  },
  {
   "cell_type": "code",
   "execution_count": 6,
   "metadata": {
    "collapsed": false
   },
   "outputs": [
    {
     "name": "stdout",
     "output_type": "stream",
     "text": [
      "CheckGenerator: The generator has negative off-diagonal element (precision: 1e-12)!\n"
     ]
    },
    {
     "ename": "Exception",
     "evalue": "MomentsFromPH: Input is not a valid PH representation!",
     "output_type": "error",
     "traceback": [
      "\u001b[1;31m---------------------------------------------------------------------------\u001b[0m",
      "\u001b[1;31mException\u001b[0m                                 Traceback (most recent call last)",
      "\u001b[1;32m<ipython-input-6-3846630820e1>\u001b[0m in \u001b[0;36m<module>\u001b[1;34m()\u001b[0m\n\u001b[1;32m----> 1\u001b[1;33m \u001b[0mMomentsFromPH\u001b[0m\u001b[1;33m(\u001b[0m\u001b[0malpha\u001b[0m\u001b[1;33m,\u001b[0m\u001b[0mA\u001b[0m\u001b[1;33m)\u001b[0m\u001b[1;33m\u001b[0m\u001b[0m\n\u001b[0m",
      "\u001b[1;32m/home/gabor/github/butools/Python/butools/ph/baseph.py\u001b[0m in \u001b[0;36mMomentsFromPH\u001b[1;34m(alpha, A, K)\u001b[0m\n\u001b[0;32m     70\u001b[0m \u001b[1;33m\u001b[0m\u001b[0m\n\u001b[0;32m     71\u001b[0m     \u001b[1;32mif\u001b[0m \u001b[0mbutools\u001b[0m\u001b[1;33m.\u001b[0m\u001b[0mcheckInput\u001b[0m \u001b[1;32mand\u001b[0m \u001b[1;32mnot\u001b[0m \u001b[0mCheckPHRepresentation\u001b[0m \u001b[1;33m(\u001b[0m\u001b[0malpha\u001b[0m\u001b[1;33m,\u001b[0m \u001b[0mA\u001b[0m\u001b[1;33m)\u001b[0m\u001b[1;33m:\u001b[0m\u001b[1;33m\u001b[0m\u001b[0m\n\u001b[1;32m---> 72\u001b[1;33m         \u001b[1;32mraise\u001b[0m \u001b[0mException\u001b[0m\u001b[1;33m(\u001b[0m\u001b[1;34m\"MomentsFromPH: Input is not a valid PH representation!\"\u001b[0m\u001b[1;33m)\u001b[0m\u001b[1;33m\u001b[0m\u001b[0m\n\u001b[0m\u001b[0;32m     73\u001b[0m \u001b[1;33m\u001b[0m\u001b[0m\n\u001b[0;32m     74\u001b[0m     \u001b[1;32mreturn\u001b[0m \u001b[0mMomentsFromME\u001b[0m \u001b[1;33m(\u001b[0m\u001b[0malpha\u001b[0m\u001b[1;33m,\u001b[0m \u001b[0mA\u001b[0m\u001b[1;33m,\u001b[0m \u001b[0mK\u001b[0m\u001b[1;33m)\u001b[0m\u001b[1;33m\u001b[0m\u001b[0m\n",
      "\u001b[1;31mException\u001b[0m: MomentsFromPH: Input is not a valid PH representation!"
     ]
    }
   ],
   "source": [
    "MomentsFromPH(alpha,A)"
   ]
  },
  {
   "cell_type": "markdown",
   "metadata": {},
   "source": [
    "However, the ME counterpart of this function runs properly:"
   ]
  },
  {
   "cell_type": "code",
   "execution_count": 7,
   "metadata": {
    "collapsed": false
   },
   "outputs": [
    {
     "data": {
      "text/plain": [
       "[0.42, 0.504, 1.2552, 4.80768, 23.9126]"
      ]
     },
     "execution_count": 7,
     "metadata": {},
     "output_type": "execute_result"
    }
   ],
   "source": [
    "MomentsFromME(alpha,A)"
   ]
  },
  {
   "cell_type": "markdown",
   "metadata": {},
   "source": [
    "## Moment matching functions"
   ]
  },
  {
   "cell_type": "markdown",
   "metadata": {},
   "source": [
    "BuTools has many functions to obtain a PH or ME distribution based on the moments. Some of them are able to return a proper result only if the input moment set falls into a given region, while some others are more flexible and have much fewer constraints."
   ]
  },
  {
   "cell_type": "markdown",
   "metadata": {},
   "source": [
    "The following function returns a PH(2) based on 3 moments. The 3 moments must fall into a given constraint, otherwise the procedure fails to return a distribution."
   ]
  },
  {
   "cell_type": "code",
   "execution_count": 8,
   "metadata": {
    "collapsed": false
   },
   "outputs": [
    {
     "name": "stdout",
     "output_type": "stream",
     "text": [
      "alpha= [[ 0.08870534  0.91129466]]\n",
      "A= [[-0.3417355   0.3417355 ]\n",
      " [ 0.         -1.35057219]]\n"
     ]
    }
   ],
   "source": [
    "alpha, A = PH2From3Moments ([1,3,20])\n",
    "print(\"alpha=\", alpha)\n",
    "print(\"A=\", A)"
   ]
  },
  {
   "cell_type": "markdown",
   "metadata": {},
   "source": [
    "It can be checked that the moments of the result are the same as the target moments."
   ]
  },
  {
   "cell_type": "code",
   "execution_count": 9,
   "metadata": {
    "collapsed": false
   },
   "outputs": [
    {
     "data": {
      "text/plain": [
       "[1, 3, 20]"
      ]
     },
     "execution_count": 9,
     "metadata": {},
     "output_type": "execute_result"
    }
   ],
   "source": [
    "MomentsFromPH(alpha, A)"
   ]
  },
  {
   "cell_type": "markdown",
   "metadata": {},
   "source": [
    "The extension of the previous matching procedure: matching five moments with a PH(3) "
   ]
  },
  {
   "cell_type": "code",
   "execution_count": 10,
   "metadata": {
    "collapsed": false
   },
   "outputs": [
    {
     "name": "stdout",
     "output_type": "stream",
     "text": [
      "alpha= [[ 0.48177689  0.51619639  0.00202671]]\n",
      "A= [[-4.59129254  0.          0.        ]\n",
      " [ 0.78159157 -0.78159157  0.        ]\n",
      " [ 0.          0.10577443 -0.10577443]]\n"
     ]
    }
   ],
   "source": [
    "alpha, A = PH3From5Moments ([0.9,2.5,20, 500, 22000])\n",
    "print(\"alpha=\", alpha)\n",
    "print(\"A=\", A)"
   ]
  },
  {
   "cell_type": "code",
   "execution_count": 11,
   "metadata": {
    "collapsed": false
   },
   "outputs": [
    {
     "data": {
      "text/plain": [
       "[0.9, 2.5, 20, 500, 22000]"
      ]
     },
     "execution_count": 11,
     "metadata": {},
     "output_type": "execute_result"
    }
   ],
   "source": [
    "MomentsFromPH(alpha, A)"
   ]
  },
  {
   "cell_type": "markdown",
   "metadata": {},
   "source": [
    "If the *graphviz* tool from AT&T is installed, the resulting PH distribution can be visualized by *ImageFromPH*."
   ]
  },
  {
   "cell_type": "code",
   "execution_count": 12,
   "metadata": {
    "collapsed": false
   },
   "outputs": [
    {
     "data": {
      "image/png": "[encoded data removed]",
      "text/plain": [
       "<IPython.core.display.Image object>"
      ]
     },
     "execution_count": 12,
     "metadata": {},
     "output_type": "execute_result"
    }
   ],
   "source": [
    "ImageFromPH(alpha,A)"
   ]
  },
  {
   "cell_type": "markdown",
   "metadata": {},
   "source": [
    "**APHFrom3Moments** is a flexible procedure. It is able to matching *any* three moments with an appropriately large APH (acyclic PH). Let us first try to match moments [1,1.28,8] with PH2From3Moments. It fails."
   ]
  },
  {
   "cell_type": "code",
   "execution_count": 14,
   "metadata": {
    "collapsed": false
   },
   "outputs": [
    {
     "ename": "Exception",
     "evalue": "The given second moment is not feasible!",
     "output_type": "error",
     "traceback": [
      "\u001b[1;31m---------------------------------------------------------------------------\u001b[0m",
      "\u001b[1;31mException\u001b[0m                                 Traceback (most recent call last)",
      "\u001b[1;32m<ipython-input-14-1e7e4e112bbf>\u001b[0m in \u001b[0;36m<module>\u001b[1;34m()\u001b[0m\n\u001b[1;32m----> 1\u001b[1;33m \u001b[0malpha\u001b[0m\u001b[1;33m,\u001b[0m \u001b[0mA\u001b[0m \u001b[1;33m=\u001b[0m \u001b[0mPH2From3Moments\u001b[0m \u001b[1;33m(\u001b[0m\u001b[1;33m[\u001b[0m\u001b[1;36m1\u001b[0m\u001b[1;33m,\u001b[0m\u001b[1;36m1.28\u001b[0m\u001b[1;33m,\u001b[0m\u001b[1;36m8\u001b[0m\u001b[1;33m]\u001b[0m\u001b[1;33m)\u001b[0m\u001b[1;33m\u001b[0m\u001b[0m\n\u001b[0m",
      "\u001b[1;32m/home/gabor/github/butools/Python/butools/ph/canonical.py\u001b[0m in \u001b[0;36mPH2From3Moments\u001b[1;34m(moms, prec)\u001b[0m\n\u001b[0;32m    164\u001b[0m \u001b[1;33m\u001b[0m\u001b[0m\n\u001b[0;32m    165\u001b[0m   \u001b[1;32mif\u001b[0m \u001b[0mm2\u001b[0m\u001b[1;33m<\u001b[0m\u001b[0mm2l\u001b[0m\u001b[1;33m:\u001b[0m\u001b[1;33m\u001b[0m\u001b[0m\n\u001b[1;32m--> 166\u001b[1;33m     \u001b[1;32mraise\u001b[0m \u001b[0mException\u001b[0m\u001b[1;33m(\u001b[0m\u001b[1;34m\"The given second moment is not feasible!\"\u001b[0m\u001b[1;33m)\u001b[0m\u001b[1;33m\u001b[0m\u001b[0m\n\u001b[0m\u001b[0;32m    167\u001b[0m   \u001b[1;32mif\u001b[0m \u001b[0mm3\u001b[0m\u001b[1;33m<\u001b[0m\u001b[0mm3l\u001b[0m\u001b[1;33m:\u001b[0m\u001b[1;33m\u001b[0m\u001b[0m\n\u001b[0;32m    168\u001b[0m     \u001b[1;32mraise\u001b[0m \u001b[0mException\u001b[0m\u001b[1;33m(\u001b[0m\u001b[1;34m\"The given third moment is not feasible (too small)!\"\u001b[0m\u001b[1;33m)\u001b[0m\u001b[1;33m\u001b[0m\u001b[0m\n",
      "\u001b[1;31mException\u001b[0m: The given second moment is not feasible!"
     ]
    }
   ],
   "source": [
    "alpha, A = PH2From3Moments ([1,1.28,8])"
   ]
  },
  {
   "cell_type": "markdown",
   "metadata": {},
   "source": [
    "However, APHFrom3Moments is able to obtain a proper PH distribution, although a larger representation."
   ]
  },
  {
   "cell_type": "code",
   "execution_count": 15,
   "metadata": {
    "collapsed": false
   },
   "outputs": [
    {
     "name": "stdout",
     "output_type": "stream",
     "text": [
      "alpha= [[  3.37359608e-06   9.99996626e-01   0.00000000e+00   0.00000000e+00\n",
      "    0.00000000e+00]]\n",
      "A= [[-0.01496878  0.01496878  0.          0.          0.        ]\n",
      " [ 0.         -4.0009017   4.0009017   0.          0.        ]\n",
      " [ 0.          0.         -4.0009017   4.0009017   0.        ]\n",
      " [ 0.          0.          0.         -4.0009017   4.0009017 ]\n",
      " [ 0.          0.          0.          0.         -4.0009017 ]]\n"
     ]
    }
   ],
   "source": [
    "alpha, A = APHFrom3Moments ([1,1.28,8])\n",
    "print(\"alpha=\", alpha)\n",
    "print(\"A=\", A)"
   ]
  },
  {
   "cell_type": "code",
   "execution_count": 16,
   "metadata": {
    "collapsed": false
   },
   "outputs": [
    {
     "data": {
      "text/plain": [
       "[1,\n",
       " 1.28,\n",
       " 8,\n",
       " 1640.36,\n",
       " 546838,\n",
       " 2.19189e+08,\n",
       " 1.02501e+11,\n",
       " 5.47814e+13,\n",
       " 3.29374e+16]"
      ]
     },
     "execution_count": 16,
     "metadata": {},
     "output_type": "execute_result"
    }
   ],
   "source": [
    "MomentsFromME(alpha, A)"
   ]
  },
  {
   "cell_type": "markdown",
   "metadata": {},
   "source": [
    "Let us plot the feasible region of moments for APHFrom3Moments with increasing number of states. As the number of states grows, the entire region is filled."
   ]
  },
  {
   "cell_type": "code",
   "execution_count": 17,
   "metadata": {
    "collapsed": false
   },
   "outputs": [
    {
     "data": {
      "image/png": "[encoded data removed]",
      "text/plain": [
       "<matplotlib.figure.Figure at 0x7fc051adefd0>"
      ]
     },
     "metadata": {},
     "output_type": "display_data"
    }
   ],
   "source": [
    "def feasibleBounds (n):\n",
    "    ly = []\n",
    "    uy = []\n",
    "    x = []\n",
    "    for m2 in np.linspace(APH2ndMomentLowerBound(1,n), 1.8, 500):\n",
    "        # convert to normalized moments\n",
    "        ml = NormMomsFromMoms ([1, m2, APH3rdMomentLowerBound(1,m2,n)])\n",
    "        mu = NormMomsFromMoms ([1, m2, APH3rdMomentUpperBound(1,m2,n)])\n",
    "        # record bounds\n",
    "        ly.append(ml[2])\n",
    "        uy.append(min(mu[2],15))\n",
    "        x.append(ml[1])    \n",
    "    return (x, ly, uy)\n",
    "\n",
    "plt.ylim((1.2,3))\n",
    "plt.xlim((1.1,1.8))\n",
    "plt.fill_between (*feasibleBounds(6),color=\"blue\")\n",
    "plt.fill_between (*feasibleBounds(5),color=\"yellow\")\n",
    "plt.fill_between (*feasibleBounds(4),color=\"green\")\n",
    "plt.fill_between (*feasibleBounds(3),color=\"red\")\n",
    "plt.fill_between (*feasibleBounds(2),color=\"orange\")\n",
    "plt.xlabel(\"$n_2(=m_2/m_1^2)$\")\n",
    "plt.ylabel(\"$n_3(=m_3/m_1/m_2)$\");"
   ]
  },
  {
   "cell_type": "markdown",
   "metadata": {},
   "source": [
    "The next procedure, **MEFromMoments** returns a vector-matrix pair matching any number of moments. Unfortunatly, while the moments are mathcing indeed according to the moment formulas, the density function can be negative, thus *MeFromMoments* can return invalid ME distributions."
   ]
  },
  {
   "cell_type": "code",
   "execution_count": 18,
   "metadata": {
    "collapsed": false
   },
   "outputs": [
    {
     "name": "stdout",
     "output_type": "stream",
     "text": [
      "v= [[ 0.33333333  0.33333333  0.33333333]]\n",
      "H= [[ -3.49783499e+00   3.24202261e-03  -9.19120782e-01]\n",
      " [  3.26283136e+00  -8.88682123e-01   3.51400679e-01]\n",
      " [ -4.00357210e+00   1.47941382e-01  -1.09214142e+00]]\n"
     ]
    }
   ],
   "source": [
    "v, H = MEFromMoments ([0.9,2.5,20, 500, 22000])\n",
    "print(\"v=\", v)\n",
    "print(\"H=\", H)"
   ]
  },
  {
   "cell_type": "code",
   "execution_count": 19,
   "metadata": {
    "collapsed": false
   },
   "outputs": [
    {
     "data": {
      "text/plain": [
       "[0.9, 2.5, 20, 500, 22000]"
      ]
     },
     "execution_count": 19,
     "metadata": {},
     "output_type": "execute_result"
    }
   ],
   "source": [
    "MomentsFromME(v, H)"
   ]
  },
  {
   "cell_type": "markdown",
   "metadata": {},
   "source": [
    "## Advanced representation transformation methods"
   ]
  },
  {
   "cell_type": "markdown",
   "metadata": {},
   "source": [
    "Let us find a Markovian representation of a non-Markovian one (for instance $(v, H)$). **PHFromME** looks for a solution having the same size. Warning: it is not always possible to find a non-markovian representation of the same size. It can happen that only a larger Markovian representation exists."
   ]
  },
  {
   "cell_type": "code",
   "execution_count": 20,
   "metadata": {
    "collapsed": false
   },
   "outputs": [
    {
     "name": "stdout",
     "output_type": "stream",
     "text": [
      "beta= [[ 0.61327522  0.00135003  0.38537475]]\n",
      "B= [[ -7.81879674e-01   7.20849244e-04   2.92950590e-02]\n",
      " [  5.72679365e-02  -1.05856889e-01   4.51039070e-02]\n",
      " [  4.56503384e-02   1.96793931e-03  -4.59092197e+00]]\n"
     ]
    }
   ],
   "source": [
    "beta, B = PHFromME (v, H)\n",
    "print(\"beta=\", beta)\n",
    "print(\"B=\", B)"
   ]
  },
  {
   "cell_type": "markdown",
   "metadata": {},
   "source": [
    "*PHFromME* terminates successfully. To show that $(\\beta,B)$ and $(v,H)$ define the same distribution, we plot it and conclude that they match."
   ]
  },
  {
   "cell_type": "code",
   "execution_count": 21,
   "metadata": {
    "collapsed": false
   },
   "outputs": [
    {
     "data": {
      "image/png": "[encoded data removed]",
      "text/plain": [
       "<matplotlib.figure.Figure at 0x7fc05198a2b0>"
      ]
     },
     "metadata": {},
     "output_type": "display_data"
    }
   ],
   "source": [
    "x = np.linspace(0, 2, 100)\n",
    "y1 = PdfFromME (v, H, x)\n",
    "y2 = PdfFromPH (beta, B, x)\n",
    "plt.plot(x,y1,x,y2);"
   ]
  },
  {
   "cell_type": "markdown",
   "metadata": {},
   "source": [
    "A more \"scientific\" way to prove the equivalence of the two representations is to find an appropriate similarity transformation that transforms the one to the other. The transformation matrix can be obtained by the *SimilarityMatrix* function of the *RepTrans* package."
   ]
  },
  {
   "cell_type": "code",
   "execution_count": 22,
   "metadata": {
    "collapsed": false
   },
   "outputs": [
    {
     "data": {
      "text/plain": [
       "matrix([[  6.24967447e-02,   5.42467973e-01,   3.95035282e-01],\n",
       "        [ -6.04077101e+00,   1.06478151e+00,   5.97598949e+00],\n",
       "        [  7.86665051e-01,  -2.04039735e-03,   2.15375346e-01]])"
      ]
     },
     "execution_count": 22,
     "metadata": {},
     "output_type": "execute_result"
    }
   ],
   "source": [
    "T = SimilarityMatrix(B,H)\n",
    "T"
   ]
  },
  {
   "cell_type": "markdown",
   "metadata": {},
   "source": [
    "Let us now check if $\\beta,B$ and $v,H$ are equivalent:"
   ]
  },
  {
   "cell_type": "code",
   "execution_count": 23,
   "metadata": {
    "collapsed": false
   },
   "outputs": [
    {
     "data": {
      "text/plain": [
       "2.30783e-14"
      ]
     },
     "execution_count": 23,
     "metadata": {},
     "output_type": "execute_result"
    }
   ],
   "source": [
    "la.norm(T.I*B*T - H)"
   ]
  },
  {
   "cell_type": "code",
   "execution_count": 24,
   "metadata": {
    "collapsed": false
   },
   "outputs": [
    {
     "data": {
      "text/plain": [
       "6.7987e-16"
      ]
     },
     "execution_count": 24,
     "metadata": {},
     "output_type": "execute_result"
    }
   ],
   "source": [
    "la.norm(beta*T - v)"
   ]
  },
  {
   "cell_type": "markdown",
   "metadata": {},
   "source": [
    "Now let us take an other example $v,H$, where no Markovian representation of the same size exists."
   ]
  },
  {
   "cell_type": "code",
   "execution_count": 25,
   "metadata": {
    "collapsed": false
   },
   "outputs": [
    {
     "name": "stdout",
     "output_type": "stream",
     "text": [
      "beta= [[ -7.05436969e-02  -6.82275458e-05   1.07061192e+00]]\n",
      "B= [[ -1.31816294e+00   1.31093892e+00   1.11093710e-03]\n",
      " [ -6.44051815e-05  -2.89744124e+00   2.88019745e+00]\n",
      " [  3.22496131e-01  -1.53830954e-01  -2.78439582e+00]]\n"
     ]
    }
   ],
   "source": [
    "v = ml.matrix([[0.2, 0.3, 0.5]])\n",
    "H = ml.matrix([[-1, 0, 0],[0, -3, 1],[0, -1, -3]])\n",
    "beta, B = PHFromME (v, H)\n",
    "print(\"beta=\", beta)\n",
    "print(\"B=\", B)"
   ]
  },
  {
   "cell_type": "markdown",
   "metadata": {},
   "source": [
    "Note that there are negative entries in $\\beta$ and in the off-diagonals of $B$.\n",
    "However, there is still hope to obtain a valid Markovian representation.\n",
    "It has been proven that all ME distributions have a Markovian monocyclic representation.\n",
    "Luckily we have a function that obtains it, called **MonocyclicPHFromME**. This function is a very strong tool. It is able to convert *any* ME distribution (ok, only those that do not touch the 0 axis apart from point 0) to a PH distribution."
   ]
  },
  {
   "cell_type": "code",
   "execution_count": 26,
   "metadata": {
    "collapsed": false
   },
   "outputs": [
    {
     "name": "stdout",
     "output_type": "stream",
     "text": [
      "beta= [[ 0.00550893  0.00903008  0.01693751  0.01521598  0.00535434  0.00873559\n",
      "   0.05248569  0.22657249  0.66015938]]\n",
      "B= [[-1.          1.          0.          0.          0.          0.          0.\n",
      "   0.          0.        ]\n",
      " [ 0.         -2.42264973  2.42264973  0.          0.          0.          0.\n",
      "   0.          0.        ]\n",
      " [ 0.          0.         -2.42264973  2.42264973  0.          0.          0.\n",
      "   0.          0.        ]\n",
      " [ 0.          0.26231725  0.         -2.42264973  2.16033248  0.          0.\n",
      "   0.          0.        ]\n",
      " [ 0.          0.          0.          0.         -4.24139998  4.24139998\n",
      "   0.          0.          0.        ]\n",
      " [ 0.          0.          0.          0.          0.         -4.24139998\n",
      "   4.24139998  0.          0.        ]\n",
      " [ 0.          0.          0.          0.          0.          0.\n",
      "  -4.24139998  4.24139998  0.        ]\n",
      " [ 0.          0.          0.          0.          0.          0.          0.\n",
      "  -4.24139998  4.24139998]\n",
      " [ 0.          0.          0.          0.          0.          0.          0.\n",
      "   0.         -4.24139998]]\n"
     ]
    }
   ],
   "source": [
    "beta, B = MonocyclicPHFromME (v, H)\n",
    "print(\"beta=\", beta)\n",
    "print(\"B=\", B)"
   ]
  },
  {
   "cell_type": "markdown",
   "metadata": {},
   "source": [
    "Altough it is larger (9 states instead of 3), but at least Markovian. "
   ]
  },
  {
   "cell_type": "code",
   "execution_count": 27,
   "metadata": {
    "collapsed": false
   },
   "outputs": [
    {
     "data": {
      "text/plain": [
       "True"
      ]
     },
     "execution_count": 27,
     "metadata": {},
     "output_type": "execute_result"
    }
   ],
   "source": [
    "CheckPHRepresentation(beta,B)"
   ]
  },
  {
   "cell_type": "markdown",
   "metadata": {},
   "source": [
    "Let us check the cdfs now to see if they match."
   ]
  },
  {
   "cell_type": "code",
   "execution_count": 28,
   "metadata": {
    "collapsed": false
   },
   "outputs": [
    {
     "data": {
      "image/png": "[encoded data removed]",
      "text/plain": [
       "<matplotlib.figure.Figure at 0x7fc051a9beb8>"
      ]
     },
     "metadata": {},
     "output_type": "display_data"
    }
   ],
   "source": [
    "x = np.linspace(0, 2, 100)\n",
    "y1 = CdfFromME (v, H, x)\n",
    "y2 = CdfFromPH (beta, B, x)\n",
    "plt.plot(x,y1,x,y2);"
   ]
  },
  {
   "cell_type": "markdown",
   "metadata": {},
   "source": [
    "If the return value of *MonocyclicPHFromME* is not interesting, there is *CheckMEPositiveDensity* available to decide if the conversion to PH is possible or not, i.e. if \n",
    "the given vector-matrix pair has a non-negative density or not."
   ]
  },
  {
   "cell_type": "code",
   "execution_count": 29,
   "metadata": {
    "collapsed": false
   },
   "outputs": [
    {
     "data": {
      "text/plain": [
       "True"
      ]
     },
     "execution_count": 29,
     "metadata": {},
     "output_type": "execute_result"
    }
   ],
   "source": [
    "CheckMEPositiveDensity(v,H)"
   ]
  },
  {
   "cell_type": "markdown",
   "metadata": {},
   "source": [
    "Let us obtain the minimal representation of this redundant representation according to controllability, observability and both respects."
   ]
  },
  {
   "cell_type": "code",
   "execution_count": 30,
   "metadata": {
    "collapsed": false
   },
   "outputs": [
    {
     "name": "stdout",
     "output_type": "stream",
     "text": [
      "controllability order =  9\n",
      "observability order =  3\n",
      "minimal order =  3\n",
      "Minimal representation:\n",
      "gamma= [[  1.00000000e+00   6.93889390e-18   5.55111512e-17]]\n",
      "G= [[ -2.83622213e+00   3.62221260e-02  -2.22044605e-16]\n",
      " [ -1.66096147e+01  -3.33690177e+00   1.60422190e+01]\n",
      " [  1.16434507e+00  -5.17235914e-02  -8.26876101e-01]]\n"
     ]
    }
   ],
   "source": [
    "gammac, Gc = MinimalRepFromME(beta,B,\"cont\")\n",
    "print(\"controllability order = \", Gc.shape[0])\n",
    "gammao, Go = MinimalRepFromME(beta,B,\"obs\",1e-4)\n",
    "print(\"observability order = \", Go.shape[0])\n",
    "gamma, G = MinimalRepFromME(beta,B,\"obscont\") # this is the default, \"obscont\" can be omitted\n",
    "print(\"minimal order = \", G.shape[0])\n",
    "print(\"Minimal representation:\")\n",
    "print(\"gamma=\", gamma)\n",
    "print(\"G=\", G)"
   ]
  },
  {
   "cell_type": "markdown",
   "metadata": {},
   "source": [
    "This way we got back a $3\\times 3$ representation. It is not Markovian, but it is more compact, which is beneficial in many numerical methods that use this distribution."
   ]
  },
  {
   "cell_type": "markdown",
   "metadata": {},
   "source": [
    "An other interesting tool is **MEOrderFromMoments**. Based on a set of moments it determines the minimal order of ME distribution that has those moments. For instance, it is often easy to obtain moments from several queueing models: this method can check if there is an underlying PH or ME distribution or not."
   ]
  },
  {
   "cell_type": "code",
   "execution_count": 31,
   "metadata": {
    "collapsed": false,
    "scrolled": true
   },
   "outputs": [
    {
     "data": {
      "text/plain": [
       "3"
      ]
     },
     "execution_count": 31,
     "metadata": {},
     "output_type": "execute_result"
    }
   ],
   "source": [
    "MEOrderFromMoments(MomentsFromPH(beta,B))"
   ]
  },
  {
   "cell_type": "markdown",
   "metadata": {},
   "source": [
    "It managed to return the right answer. Note however, that this procedure is quite prone to numerical errors. The Mathematica implementation together with multiple (very high) precision arithmetic does not have this problem."
   ]
  },
  {
   "cell_type": "markdown",
   "metadata": {},
   "source": [
    "## Randomness"
   ]
  },
  {
   "cell_type": "markdown",
   "metadata": {},
   "source": [
    "For convenience, there is a procedure to generate a random PH distribution of a given size. Further parameters are the desired order, the desired mean value, and the number of zero entries of the representation (dense random PHs are not diverse enough)."
   ]
  },
  {
   "cell_type": "code",
   "execution_count": 32,
   "metadata": {
    "collapsed": false
   },
   "outputs": [
    {
     "name": "stdout",
     "output_type": "stream",
     "text": [
      "alpha= [[ 0.35887602  0.38176327  0.25936072  0.        ]]\n",
      "A= [[-11.69698763   3.5182897    4.2954947    3.88320323]\n",
      " [  0.          -6.48671354   2.39713245   3.26573336]\n",
      " [  0.           2.18860558  -2.18860558   0.        ]\n",
      " [  0.80051543   0.           0.          -2.9451668 ]]\n"
     ]
    }
   ],
   "source": [
    "alpha,A = RandomPH(4, 1.2, 8)\n",
    "print(\"alpha=\",alpha)\n",
    "print(\"A=\",A)"
   ]
  },
  {
   "cell_type": "markdown",
   "metadata": {},
   "source": [
    "(Zero entries can be located in the initial vector, in the generator, and in the absorbing rates as well, which is not instantly visible from the returned parameters)"
   ]
  },
  {
   "cell_type": "markdown",
   "metadata": {},
   "source": [
    "The *SamplesFromPH* function returns a vector of random samples from a PH distribution. The last parameter is the number of samples requested. The samples can be used in simulations, for instance."
   ]
  },
  {
   "cell_type": "code",
   "execution_count": 33,
   "metadata": {
    "collapsed": true
   },
   "outputs": [],
   "source": [
    "tr = SamplesFromPH(alpha,A,1000000);"
   ]
  },
  {
   "cell_type": "code",
   "execution_count": 34,
   "metadata": {
    "collapsed": false
   },
   "outputs": [
    {
     "data": {
      "text/plain": [
       "1.19934"
      ]
     },
     "execution_count": 34,
     "metadata": {},
     "output_type": "execute_result"
    }
   ],
   "source": [
    "np.mean(tr)"
   ]
  }
 ],
 "metadata": {
  "kernelspec": {
   "display_name": "Python 3",
   "language": "python",
   "name": "python3"
  },
  "language_info": {
   "codemirror_mode": {
    "name": "ipython",
    "version": 3
   },
   "file_extension": ".py",
   "mimetype": "text/x-python",
   "name": "python",
   "nbconvert_exporter": "python",
   "pygments_lexer": "ipython3",
   "version": "3.4.3"
  }
 },
 "nbformat": 4,
 "nbformat_minor": 0
}
