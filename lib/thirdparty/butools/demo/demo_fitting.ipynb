{
 "cells": [
  {
   "cell_type": "markdown",
   "metadata": {},
   "source": [
    "# Demonstration of the BuTools fitting package"
   ]
  },
  {
   "cell_type": "markdown",
   "metadata": {},
   "source": [
    "Set the precision and import the necessary packages"
   ]
  },
  {
   "cell_type": "code",
   "execution_count": 1,
   "metadata": {
    "collapsed": false
   },
   "outputs": [
    {
     "name": "stdout",
     "output_type": "stream",
     "text": [
      "Butools V2.0\n",
      "Packages loaded: utils, mc, moments, reptrans, trace, ph, dph, map, dmap, fitting, mam, queues\n",
      "Global variables: \n",
      "butools.verbose = False , butools.checkInput = True , butools.checkPrecision = 1e-12\n"
     ]
    }
   ],
   "source": [
    "%precision %g\n",
    "%run \"~/github/butools/Python/BuToolsInit.py\""
   ]
  },
  {
   "cell_type": "markdown",
   "metadata": {},
   "source": [
    "First the global butools.verbose flag is set to True to obtain more messages from the functions."
   ]
  },
  {
   "cell_type": "code",
   "execution_count": 2,
   "metadata": {
    "collapsed": true
   },
   "outputs": [],
   "source": [
    "butools.verbose = True"
   ]
  },
  {
   "cell_type": "markdown",
   "metadata": {},
   "source": [
    "## Phase-type distribution fitting"
   ]
  },
  {
   "cell_type": "markdown",
   "metadata": {},
   "source": [
    "First we load a trace (BC-pAug89), calculate the pdf, the cdf, and the first 5 moments. To obtain the empirical pdf, we need to specify the interval boundaries as well. PdfFromTrace returns the relative number of samples falling into the boundaries divided by the interval sizes."
   ]
  },
  {
   "cell_type": "code",
   "execution_count": 3,
   "metadata": {
    "collapsed": false
   },
   "outputs": [],
   "source": [
    "tr = np.loadtxt(\"../test/data/bctrace.iat\")\n",
    "intBounds = np.linspace(0, 0.2, 250)\n",
    "(xt,yt) = PdfFromTrace (tr, intBounds)\n",
    "(cxtFull,cytFull) = CdfFromTrace (tr)\n",
    "momt = MarginalMomentsFromTrace (tr, 5)"
   ]
  },
  {
   "cell_type": "markdown",
   "metadata": {},
   "source": [
    "The first algorithm to test is G-Fit, that obtains a hyper-Erlang distribution by the EM algorithm. It has many parameters, but fortunately it can be used in a very user-friendly way just specifying the number of phases of the result."
   ]
  },
  {
   "cell_type": "code",
   "execution_count": 4,
   "metadata": {
    "collapsed": false
   },
   "outputs": [
    {
     "name": "stdout",
     "output_type": "stream",
     "text": [
      "EM algorithm terminated. [1, 1, 1, 1, 1]\n",
      "Num of iterations:  27 , logli:  4.85108360418\n",
      "alpha= [[ 0.06502731  0.85788487  0.          0.07708782  0.        ]]\n",
      "A= [[   -63.30763115      0.              0.              0.              0.        ]\n",
      " [     0.           -815.71806894    815.71806894      0.              0.        ]\n",
      " [     0.              0.           -815.71806894      0.              0.        ]\n",
      " [     0.              0.              0.         -12563.08792279\n",
      "   12563.08792279]\n",
      " [     0.              0.              0.              0.         -12563.08792279]]\n"
     ]
    }
   ],
   "source": [
    "alpha, A, logli = PHFromTrace(tr, 5)\n",
    "print(\"alpha=\",alpha)\n",
    "print(\"A=\",A)"
   ]
  },
  {
   "cell_type": "markdown",
   "metadata": {},
   "source": [
    "The density functions of the result and of the trace are compared below. Note that we did not use *PdfFromPH*, but *IntervalPdfFromPH* instead, which is more appropriate to compare with an empirical density. *IntervalPdfFromPH* takes interval boundaries, and returns the probabilities that the PH distributed random variable falls into these intervals divided by the interval lengths."
   ]
  },
  {
   "cell_type": "code",
   "execution_count": 5,
   "metadata": {
    "collapsed": false
   },
   "outputs": [],
   "source": [
    "(xg,yg) = IntervalPdfFromPH (alpha, A, intBounds)"
   ]
  },
  {
   "cell_type": "code",
   "execution_count": 6,
   "metadata": {
    "collapsed": false
   },
   "outputs": [
    {
     "data": {
      "text/plain": [
       "(0.001, 0.2)"
      ]
     },
     "execution_count": 6,
     "metadata": {},
     "output_type": "execute_result"
    },
    {
     "data": {
      "image/png": "[encoded data removed]",
      "text/plain": [
       "<matplotlib.figure.Figure at 0x7f49cd03a4e0>"
      ]
     },
     "metadata": {},
     "output_type": "display_data"
    }
   ],
   "source": [
    "plt.figure(figsize=(12,4))\n",
    "plt.subplot(121)\n",
    "plt.title(\"Pdf comparison, body\")\n",
    "plt.plot(xt,yt,label=\"Trace\")\n",
    "plt.plot(xg,yg,label=\"G-Fit\")\n",
    "plt.xlim(0,0.012)\n",
    "plt.legend(loc='best')\n",
    "plt.subplot(122)\n",
    "plt.title(\"Pdf comparison, tail\")\n",
    "plt.loglog(xt,yt,label=\"Trace\")\n",
    "plt.loglog(xg,yg,label=\"G-Fit\")\n",
    "plt.legend(loc='best')\n",
    "plt.xlim(1e-3,2e-1)"
   ]
  },
  {
   "cell_type": "markdown",
   "metadata": {},
   "source": [
    "The evolution of the result of the GFIT algorithm can be demonstrated with the following fancy animation."
   ]
  },
  {
   "cell_type": "code",
   "execution_count": 7,
   "metadata": {
    "collapsed": false
   },
   "outputs": [
    {
     "data": {
      "image/png": "[encoded data removed]",
      "text/plain": [
       "<matplotlib.figure.Figure at 0x7f49ccd08198>"
      ]
     },
     "metadata": {},
     "output_type": "display_data"
    }
   ],
   "source": [
    "from IPython.display import clear_output, display\n",
    "butools.verbose = False\n",
    "\n",
    "fig = plt.figure(figsize=(12,4))\n",
    "pl1 = fig.add_subplot(121)\n",
    "plt.title(\"Pdf comparison, body\")\n",
    "plt.xlim(0,0.012)\n",
    "plt.ylim(0,350)\n",
    "plt.legend(loc='best')\n",
    "pl2 = fig.add_subplot(122)\n",
    "plt.title(\"Pdf comparison, tail\")\n",
    "plt.xlim(1e-3,2e-1)\n",
    "plt.ylim(1e-6,1e3)\n",
    "plt.legend(loc='best')\n",
    "\n",
    "# first we let gfit generate an initial guess and return it in a vector-vector format\n",
    "pi, lambd, logli = PHFromTrace (tr, [1,2,3], maxIter=0, result=\"vecvec\")\n",
    "# the following loop executes 5 EM steps in each iteration\n",
    "for i in range(20):\n",
    "    # execute 5 EM steps\n",
    "    pi, lambd, logli = PHFromTrace (tr, [1,2,3], maxIter=5, initial=(pi, lambd), result=\"vecvec\")\n",
    "    # obtain the PH representation\n",
    "    alpha, A, logli = PHFromTrace (tr, [1,2,3], maxIter=0, initial=(pi, lambd))\n",
    "    (xg,yg) = IntervalPdfFromPH (alpha, A, intBounds)   \n",
    "    if i>0:\n",
    "        clear_output()\n",
    "        pl1.lines.pop(0)\n",
    "        pl1.lines.pop(0)\n",
    "        pl2.lines.pop(0)\n",
    "        pl2.lines.pop(0)\n",
    "    pl1.plot(xt,yt,label=\"Trace\")\n",
    "    pl1.plot(xg,yg,label=\"G-Fit\")\n",
    "    pl2.loglog(xt,yt,label=\"Trace\")\n",
    "    pl2.loglog(xg,yg,label=\"G-Fit\")\n",
    "    display(fig)\n",
    "clear_output()"
   ]
  },
  {
   "cell_type": "markdown",
   "metadata": {},
   "source": [
    "There are other ways to quantify the success of the fitting method as well, like \n",
    "\n",
    "* comparing the moments\n",
    "* calculating the squared difference of the pdf or of the ccdf\n",
    "* calculating the relative entropy of the pdf\n",
    "\n",
    "Let us start with the comparison of the moments"
   ]
  },
  {
   "cell_type": "code",
   "execution_count": 8,
   "metadata": {
    "collapsed": false
   },
   "outputs": [
    {
     "name": "stdout",
     "output_type": "stream",
     "text": [
      "Moments of the trace:  [0.0031428217360000002, 4.1717980021152e-05, 2.0104235218006803e-06, 1.8171548170691348e-07, 2.5288141295642176e-08]\n",
      "Moments of the PH:  [0.0031428217359989125, 3.710428451823741e-05, 1.2614052764100586e-06, 6.6526754027202468e-08, 4.4628365202736856e-09]\n"
     ]
    }
   ],
   "source": [
    "momg = MomentsFromPH (alpha, A, 5)\n",
    "print(\"Moments of the trace: \", momt)\n",
    "print(\"Moments of the PH: \", momg)"
   ]
  },
  {
   "cell_type": "markdown",
   "metadata": {},
   "source": [
    "We also have a function to obtain the squared difference of the empirical pdfs."
   ]
  },
  {
   "cell_type": "code",
   "execution_count": 9,
   "metadata": {
    "collapsed": false
   },
   "outputs": [
    {
     "name": "stdout",
     "output_type": "stream",
     "text": [
      "Squared difference of the pdfs:  0.24082034206\n"
     ]
    }
   ],
   "source": [
    "print(\"Squared difference of the pdfs: \", EmpiricalSquaredDifference (yt, yg, intBounds))"
   ]
  },
  {
   "cell_type": "markdown",
   "metadata": {},
   "source": [
    "Obtaining the squared difference of the cdfs is a bit more involved. The empirical cdf is too large, thus we take only every 1000th item of it. Furthermore, we do not have the interval bounds in this case. The \"x\" values can serve as interval bounds, but in this case the last \"y\" has to be dropped out (as the number of interval bounds needs to be larger than the number of values by one)"
   ]
  },
  {
   "cell_type": "code",
   "execution_count": 10,
   "metadata": {
    "collapsed": false
   },
   "outputs": [
    {
     "name": "stdout",
     "output_type": "stream",
     "text": [
      "Squared difference of the pdfs:  3.0208745972e-10\n"
     ]
    }
   ],
   "source": [
    "cxt = cxtFull[::1000]\n",
    "cyt = cytFull[::1000]\n",
    "cyg = CdfFromPH (alpha, A, cxt)\n",
    "print(\"Squared difference of the pdfs: \", EmpiricalSquaredDifference (cyt[:-1], cyg[:-1], cxt))"
   ]
  },
  {
   "cell_type": "markdown",
   "metadata": {},
   "source": [
    "The relative entropy of the two pdfs is"
   ]
  },
  {
   "cell_type": "code",
   "execution_count": 11,
   "metadata": {
    "collapsed": false
   },
   "outputs": [
    {
     "name": "stdout",
     "output_type": "stream",
     "text": [
      "Relative entropy:  1.12254464426\n"
     ]
    }
   ],
   "source": [
    "print(\"Relative entropy: \", EmpiricalRelativeEntropy(yt, yg, intBounds))"
   ]
  },
  {
   "cell_type": "markdown",
   "metadata": {},
   "source": [
    "The likelihood of the trace is"
   ]
  },
  {
   "cell_type": "code",
   "execution_count": 12,
   "metadata": {
    "collapsed": false
   },
   "outputs": [
    {
     "data": {
      "text/plain": [
       "4.91743"
      ]
     },
     "execution_count": 12,
     "metadata": {},
     "output_type": "execute_result"
    }
   ],
   "source": [
    "LikelihoodFromTrace(tr,alpha,A)"
   ]
  },
  {
   "cell_type": "markdown",
   "metadata": {},
   "source": [
    "## Fitting of Markovian Arrival Processes"
   ]
  },
  {
   "cell_type": "markdown",
   "metadata": {},
   "source": [
    "MAPFromTrace is similar to PHFromTrace, but it returns a MAP instead of a PH. Unfortunately it is much slower, thus we need to obtain a smaller trace for the experiments. The C++ implementation of the procedure (SPEMFIT, https://bitbucket.org/ghorvath78/spemfit) is much faster and is able to operate on millions of measurements with a reasonable speed."
   ]
  },
  {
   "cell_type": "code",
   "execution_count": 13,
   "metadata": {
    "collapsed": true
   },
   "outputs": [],
   "source": [
    "trSmall = tr[0:10000]"
   ]
  },
  {
   "cell_type": "code",
   "execution_count": 14,
   "metadata": {
    "collapsed": false
   },
   "outputs": [],
   "source": [
    "D0, D1, logli = MAPFromTrace(trSmall, 5)"
   ]
  },
  {
   "cell_type": "markdown",
   "metadata": {},
   "source": [
    "The *LikleihoodFromTrace* works with MAPs as well, not only with PHs."
   ]
  },
  {
   "cell_type": "code",
   "execution_count": 15,
   "metadata": {
    "collapsed": false
   },
   "outputs": [
    {
     "data": {
      "text/plain": [
       "5.12396"
      ]
     },
     "execution_count": 15,
     "metadata": {},
     "output_type": "execute_result"
    }
   ],
   "source": [
    "LikelihoodFromTrace(trSmall, D0, D1)"
   ]
  },
  {
   "cell_type": "markdown",
   "metadata": {},
   "source": [
    "To evaluate the accuracy of the obtained MAP, the autocorrelation functions are compared."
   ]
  },
  {
   "cell_type": "code",
   "execution_count": 16,
   "metadata": {
    "collapsed": false
   },
   "outputs": [
    {
     "name": "stdout",
     "output_type": "stream",
     "text": [
      "trAcf= [0.20004885484210852, 0.18927480124417365, 0.13895117398714094, 0.14213400151438738, 0.11712720506721902, 0.12367824446146115, 0.1121211150989561, 0.10051068930807179, 0.10019070967277495, 0.098797210298893726]\n",
      "mapAcf= [ 0.24889205  0.17665283  0.12882047  0.09638293  0.07380231  0.05764988\n",
      "  0.04578178  0.03684042  0.02995226  0.02454429]\n"
     ]
    }
   ],
   "source": [
    "trAcf = LagCorrelationsFromTrace(tr, 10)\n",
    "print(\"trAcf=\", trAcf)\n",
    "mapAcf = LagCorrelationsFromMAP(D0, D1, 10)\n",
    "print(\"mapAcf=\",mapAcf)"
   ]
  },
  {
   "cell_type": "code",
   "execution_count": 17,
   "metadata": {
    "collapsed": false
   },
   "outputs": [
    {
     "data": {
      "image/png": "[encoded data removed]",
      "text/plain": [
       "<matplotlib.figure.Figure at 0x7f49cc92b358>"
      ]
     },
     "metadata": {},
     "output_type": "display_data"
    }
   ],
   "source": [
    "plt.plot(np.array([trAcf,mapAcf]).T);"
   ]
  },
  {
   "cell_type": "markdown",
   "metadata": {},
   "source": [
    "The squared difference and the relative entropy of the autocorrelation functions:"
   ]
  },
  {
   "cell_type": "code",
   "execution_count": 18,
   "metadata": {
    "collapsed": false
   },
   "outputs": [
    {
     "name": "stdout",
     "output_type": "stream",
     "text": [
      "sqAcf= 0.0298793020124\n",
      "reAcf= 0.340174607035\n"
     ]
    }
   ],
   "source": [
    "sqAcf = SquaredDifference(mapAcf, trAcf)\n",
    "reAcf = RelativeEntropy(mapAcf, trAcf)\n",
    "print(\"sqAcf=\",sqAcf)\n",
    "print(\"reAcf=\",reAcf)"
   ]
  }
 ],
 "metadata": {
  "kernelspec": {
   "display_name": "Python 3",
   "language": "python",
   "name": "python3"
  },
  "language_info": {
   "codemirror_mode": {
    "name": "ipython",
    "version": 3
   },
   "file_extension": ".py",
   "mimetype": "text/x-python",
   "name": "python",
   "nbconvert_exporter": "python",
   "pygments_lexer": "ipython3",
   "version": "3.4.3"
  }
 },
 "nbformat": 4,
 "nbformat_minor": 0
}
